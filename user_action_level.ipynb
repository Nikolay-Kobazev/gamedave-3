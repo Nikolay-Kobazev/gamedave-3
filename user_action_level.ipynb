{
 "cells": [
  {
   "cell_type": "code",
   "execution_count": 4,
   "metadata": {},
   "outputs": [
    {
     "name": "stdout",
     "output_type": "stream",
     "text": [
      "Процент пользователей, которые выбрали уровень easy и оплатили вопросы: 7.72%\n",
      "Процент пользователей, которые выбрали уровень medium и оплатили вопросы: 20.86%\n",
      "Процент пользователей, которые выбрали уровень hard и оплатили вопросы: 35.39%\n",
      "Среднее время между выбором уровня сложности и оплатой (для easy):  3 days 14:58:52.941798941\n",
      "Среднее время между выбором уровня сложности и оплатой (для medium):  3 days 23:14:13.165118679\n",
      "Среднее время между выбором уровня сложности и оплатой (для hard):  3 days 07:20:41.420814479\n",
      "Среднее время между регистрацией и оплатой (для easy):  3 days 22:10:23.211640211\n",
      "Среднее время между регистрацией и оплатой (для medium):  4 days 06:12:06.576883384\n",
      "Среднее время между регистрацией и оплатой (для hard):  3 days 14:55:19.257918552\n"
     ]
    }
   ],
   "source": [
    "import pandas as pd\n",
    "\n",
    "# читаем данные из таблиц\n",
    "events_df = pd.read_csv('data/7_4_Events.csv')\n",
    "purchase_df = pd.read_csv('data/purchase.csv')\n",
    "\n",
    "# находим список пользователей, зарегистрировавшихся в 2018\n",
    "cond = (events_df.start_time>='2018-01-01') & (events_df.start_time<'2019-01-01') & (events_df.event_type=='registration')\n",
    "registered = events_df[cond]['user_id'].to_list() \n",
    "\n",
    "# извлекаем пользователей, зарегистрировавшихся в 2018 году\n",
    "events_df = events_df[events_df.user_id.isin(registered)] \n",
    "events_df.start_time = pd.to_datetime(events_df.start_time, format='%Y-%m-%dT%H:%M:%S')\n",
    "purchase_df = purchase_df[purchase_df.user_id.isin(registered)]\n",
    "purchase_df.event_datetime = pd.to_datetime(purchase_df.event_datetime, format='%Y-%m-%dT%H:%M:%S')\n",
    "\n",
    "# переиеновываем столбцы id\n",
    "events_df = events_df.rename(columns={\"id\": \"event_id\"})\n",
    "purchase_df = purchase_df.rename(columns={\"id\": \"purchase_id\"})\n",
    "# объединяем датафреймы, сбрасываем индексы и сортируем по возрастанию времени\n",
    "total_events_df = pd.concat([events_df,purchase_df],sort=False)\n",
    "total_events_df = total_events_df.reset_index(drop=True).sort_values('start_time')\n",
    "\n",
    "# делим пользователей по выбранному уровню сложности \n",
    "users_select_level_easy = total_events_df[total_events_df[\"selected_level\"] == \"easy\"][\"user_id\"].unique()\n",
    "users_select_level_medium = total_events_df[total_events_df[\"selected_level\"] == \"medium\"][\"user_id\"].unique()\n",
    "users_select_level_hard = total_events_df[total_events_df[\"selected_level\"] == \"hard\"][\"user_id\"].unique()\n",
    "\n",
    "# выделим датафреймы по оплатам пользователей, в зависимости от уровня сложности\n",
    "purchase_df_1 = purchase_df[purchase_df[\"user_id\"].isin(users_select_level_easy)]\n",
    "purchase_df_2 = purchase_df[purchase_df[\"user_id\"].isin(users_select_level_medium)]\n",
    "purchase_df_3 = purchase_df[purchase_df[\"user_id\"].isin(users_select_level_hard)]\n",
    "\n",
    "# находим процент оплативших пользователей, в зависимости от уровня сложности\n",
    "percent_of_purchase_1 = purchase_df_1[\"user_id\"].nunique() / len(users_select_level_easy)\n",
    "print(\n",
    "    \"Процент пользователей, которые выбрали уровень easy и оплатили вопросы: {:.2%}\".format(\n",
    "        percent_of_purchase_1\n",
    "    )\n",
    ")\n",
    "percent_of_purchase_2 = purchase_df_2[\"user_id\"].nunique() / len(users_select_level_medium)\n",
    "print(\n",
    "    \"Процент пользователей, которые выбрали уровень medium и оплатили вопросы: {:.2%}\".format(\n",
    "        percent_of_purchase_2\n",
    "    )\n",
    ")\n",
    "percent_of_purchase_3 = purchase_df_3[\"user_id\"].nunique() / len(users_select_level_hard)\n",
    "print(\n",
    "    \"Процент пользователей, которые выбрали уровень hard и оплатили вопросы: {:.2%}\".format(\n",
    "        percent_of_purchase_3\n",
    "    )\n",
    ")\n",
    "# выделим датафреймы с разными событиями выбора уровня сложности\n",
    "select_easy_df = total_events_df[total_events_df['selected_level'] == 'easy']\n",
    "select_easy_df = select_easy_df[[\"user_id\", \"start_time\"]].rename(columns={\"start_time\": \"select_time\"})\n",
    "select_medium_df = total_events_df[total_events_df['selected_level'] == 'medium']\n",
    "select_medium_df = select_medium_df[[\"user_id\", \"start_time\"]].rename(columns={\"start_time\": \"select_time\"})\n",
    "select_hard_df = total_events_df[total_events_df['selected_level'] == 'hard']\n",
    "select_hard_df = select_hard_df[[\"user_id\", \"start_time\"]].rename(columns={\"start_time\": \"select_time\"})\n",
    "\n",
    "# объединяем датафреймы в рамках одной группы и находим разницу во времени между выбором уровня и оплатой\n",
    "merged_df_1 = select_easy_df.merge(purchase_df_1, on=\"user_id\", how=\"inner\")\n",
    "merged_df_1[\"timedelta\"] = (merged_df_1[\"event_datetime\"] - merged_df_1[\"select_time\"])\n",
    "merged_df_2 = select_medium_df.merge(purchase_df_2, on=\"user_id\", how=\"inner\")\n",
    "merged_df_2[\"timedelta\"] = (merged_df_2[\"event_datetime\"] - merged_df_2[\"select_time\"])\n",
    "merged_df_3 = select_hard_df.merge(purchase_df_3, on=\"user_id\", how=\"inner\")\n",
    "merged_df_3[\"timedelta\"] = (merged_df_3[\"event_datetime\"] - merged_df_3[\"select_time\"])\n",
    "print(\"Среднее время между выбором уровня сложности и оплатой (для easy): \", merged_df_1[\"timedelta\"].mean())\n",
    "print(\"Среднее время между выбором уровня сложности и оплатой (для medium): \", merged_df_2[\"timedelta\"].mean())\n",
    "print(\"Среднее время между выбором уровня сложности и оплатой (для hard): \", merged_df_3[\"timedelta\"].mean())\n",
    "\n",
    "# выделим датафрейм с событием registration\n",
    "registration_df = total_events_df[total_events_df['event_type'] == 'registration']\n",
    "registration_df = registration_df[[\"user_id\", \"start_time\"]].rename(columns={\"start_time\": \"registration_time\"})\n",
    "\n",
    "# объединяем датафреймы в рамках одной группы и находим разницу во времени между регистрацией и оплатой\n",
    "merged_df_4 = purchase_df_1.merge(registration_df, on=\"user_id\", how=\"inner\")\n",
    "merged_df_4[\"timedelta\"] = (merged_df_4[\"event_datetime\"] - merged_df_4[\"registration_time\"])\n",
    "merged_df_5 = purchase_df_2.merge(registration_df, on=\"user_id\", how=\"inner\")\n",
    "merged_df_5[\"timedelta\"] = (merged_df_5[\"event_datetime\"] - merged_df_5[\"registration_time\"])\n",
    "merged_df_6 = purchase_df_3.merge(registration_df, on=\"user_id\", how=\"inner\")\n",
    "merged_df_6[\"timedelta\"] = (merged_df_6[\"event_datetime\"] - merged_df_6[\"registration_time\"])\n",
    "print(\"Среднее время между регистрацией и оплатой (для easy): \", merged_df_4[\"timedelta\"].mean())\n",
    "print(\"Среднее время между регистрацией и оплатой (для medium): \", merged_df_5[\"timedelta\"].mean())\n",
    "print(\"Среднее время между регистрацией и оплатой (для hard): \", merged_df_6[\"timedelta\"].mean())"
   ]
  },
  {
   "cell_type": "markdown",
   "metadata": {},
   "source": [
    "Наибольший процент пользователей, которые оплатили вопросы, выбирают уровень сложности hard. Следовательно вероятность оплаты зависит от выбранного уровня сложности. "
   ]
  },
  {
   "cell_type": "markdown",
   "metadata": {},
   "source": [
    "Наименьшее среднее время между событиями выбор уровня сложности - покупка вопросов и регистрация - покупка вопросов, зафиксировано для пользователей, выбравших уровень сложности hard. Это показывает их болеее высокую заинтересованность в дальнейшем использовании приложения. "
   ]
  }
 ],
 "metadata": {
  "interpreter": {
   "hash": "b89b5cfaba6639976dc87ff2fec6d58faec662063367e2c229c520fe71072417"
  },
  "kernelspec": {
   "display_name": "Python 3.10.0 64-bit",
   "language": "python",
   "name": "python3"
  },
  "language_info": {
   "codemirror_mode": {
    "name": "ipython",
    "version": 3
   },
   "file_extension": ".py",
   "mimetype": "text/x-python",
   "name": "python",
   "nbconvert_exporter": "python",
   "pygments_lexer": "ipython3",
   "version": "3.10.0"
  },
  "orig_nbformat": 4
 },
 "nbformat": 4,
 "nbformat_minor": 2
}
